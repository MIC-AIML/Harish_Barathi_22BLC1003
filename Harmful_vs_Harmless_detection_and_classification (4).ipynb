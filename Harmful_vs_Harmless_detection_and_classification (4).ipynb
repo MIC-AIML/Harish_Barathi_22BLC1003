{
  "cells": [
    {
      "cell_type": "code",
      "execution_count": null,
      "metadata": {
        "id": "2OsT7gHI5R1A"
      },
      "outputs": [],
      "source": [
        "from google.colab import drive\n",
        "drive.mount('/content/drive')"
      ]
    },
    {
      "cell_type": "code",
      "execution_count": null,
      "metadata": {
        "id": "ukvGx-78O01x"
      },
      "outputs": [],
      "source": [
        "from PIL import Image\n",
        "import os\n",
        "\n",
        "harmful_path = '/content/drive/MyDrive/Datasets/Synthetix2/harmful'\n",
        "  # Path to the directory containing image files\n",
        "\n",
        "file_list = os.listdir(harmful_path)\n",
        "\n",
        "for file_name in file_list:\n",
        "    file_path = os.path.join(harmful_path, file_name) #creating a path to each img file\n",
        "    \n",
        "    if os.path.isfile(file_path):\n",
        "        img = Image.open(file_path)\n",
        "        img.show()  # Display the image\n",
        "        print(file_list[0])\n",
        "        break\n",
        "\n"
      ]
    },
    {
      "cell_type": "code",
      "execution_count": null,
      "metadata": {
        "id": "IbDZ84OpPUrl"
      },
      "outputs": [],
      "source": [
        "harmless_path = \"/content/drive/MyDrive/Datasets/Synthetix2/harmless\"\n",
        "\n",
        "file_list = os.listdir(harmless_path)\n",
        "\n",
        "for file_name in file_list:\n",
        "    file_path = os.path.join(harmless_path, file_name)\n",
        "    \n",
        "    if os.path.isfile(file_path):\n",
        "        img = Image.open(file_path)\n",
        "        img.show()  \n",
        "        print(file_list[0])\n",
        "        break\n"
      ]
    },
    {
      "cell_type": "code",
      "execution_count": null,
      "metadata": {
        "id": "zipw3NWKWy6V"
      },
      "outputs": [],
      "source": [
        "import os\n",
        "harmless_path = \"/content/drive/MyDrive/Datasets/Synthetix2/harmless\"\n",
        "path, dirs, files = next(os.walk(harmless_path))\n",
        "length_harmless = len(files)\n",
        "print(\"Total harmless images : \", length_harmless)\n",
        "for i in range(5):\n",
        "  print(files[i])\n"
      ]
    },
    {
      "cell_type": "code",
      "execution_count": null,
      "metadata": {
        "id": "NFIZWThGcvkn"
      },
      "outputs": [],
      "source": [
        "harmful = '/content/drive/MyDrive/Datasets/Synthetix2/harmful'\n",
        "path, dirs, files = next(os.walk(harmful_path))\n",
        "length_harmful = len(files)\n",
        "print(\"Total harmless images : \", length_harmful)\n",
        "for i in range(5):\n",
        "  print(files[i])\n"
      ]
    },
    {
      "cell_type": "markdown",
      "source": [
        "**Importing the Dependencies**"
      ],
      "metadata": {
        "id": "su3UVo7Lf4un"
      }
    },
    {
      "cell_type": "code",
      "execution_count": null,
      "metadata": {
        "id": "1qZOcw-Xd3NJ"
      },
      "outputs": [],
      "source": [
        "import numpy as np\n",
        "from PIL import Image\n",
        "import pandas as pd\n",
        "import matplotlib.pyplot as plt\n",
        "import matplotlib.image as pltimg\n",
        "from sklearn.model_selection import train_test_split\n",
        "from google.colab.patches import cv2_imshow"
      ]
    },
    {
      "cell_type": "code",
      "execution_count": null,
      "metadata": {
        "id": "lm_X6foQeMRl"
      },
      "outputs": [],
      "source": [
        "harmful = '/content/drive/MyDrive/Datasets/Synthetix2/harmful/'\n",
        "path, dirs, files = next(os.walk(harmful))\n",
        "img_path = harmful + files[120]\n",
        "img = pltimg.imread(img_path)\n",
        "temp = plt.imshow(img)\n",
        "plt.show(temp)\n",
        "\n",
        "file_size = os.path.getsize(img_path)\n",
        "print(f\"filesize : {file_size} bytes\")\n",
        "\n",
        "img_pixel = Image.open(img_path)\n",
        "width,height = img_pixel.size\n",
        "print(f\"Image size : {width} x {height}\")"
      ]
    },
    {
      "cell_type": "code",
      "execution_count": null,
      "metadata": {
        "id": "eUCK3sx3eskg"
      },
      "outputs": [],
      "source": [
        "harmless = '/content/drive/MyDrive/Datasets/Synthetix2/harmless/'\n",
        "path, dirs, files = next(os.walk(harmless))\n",
        "img_path = harmless + files[120]\n",
        "\n",
        "img = pltimg.imread(img_path)\n",
        "temp = plt.imshow(img)\n",
        "plt.show(temp)\n",
        "\n",
        "file_size = os.path.getsize(img_path)\n",
        "print(f\"filesize : {file_size} bytes\")\n",
        "\n",
        "img_pixel = Image.open(img_path)\n",
        "width,height = img_pixel.size\n",
        "print(f\"Image size : {width} x {height}\")"
      ]
    },
    {
      "cell_type": "code",
      "execution_count": null,
      "metadata": {
        "id": "UFFEAjKMfvry"
      },
      "outputs": [],
      "source": [
        "os.mkdir(\"/content/harmful_resized\")\n",
        "\n",
        "\n",
        "\n",
        "original_folder = '/content/drive/MyDrive/Datasets/Synthetix2/harmful/'\n",
        "resized_folder = '/content/harmful_resized/'\n",
        "\n",
        "for i in range(length_harmful-1):\n",
        "  file_name = os.listdir(original_folder)[i]\n",
        "  img_path = original_folder + file_name\n",
        "\n",
        "  img = Image.open(img_path)\n",
        "  img = img.resize((224,224))\n",
        "  img = img.convert('RGB')\n",
        "\n",
        "  new_path = resized_folder + file_name\n",
        "  img.save(new_path)\n"
      ]
    },
    {
      "cell_type": "code",
      "execution_count": null,
      "metadata": {
        "id": "vYiG4u4DlkAe"
      },
      "outputs": [],
      "source": [
        "path = \"/content/harmful_resized\"\n",
        "files = os.listdir(path)\n",
        "for i in range(5):\n",
        "  print(files[i])"
      ]
    },
    {
      "cell_type": "code",
      "execution_count": null,
      "metadata": {
        "id": "2SCPxDYlm2t7"
      },
      "outputs": [],
      "source": [
        "img_path = \"/content/harmful_resized/IMG_1478 (1).png\"\n",
        "img = pltimg.imread(img_path)\n",
        "temp = plt.imshow(img)\n",
        "plt.show(temp)\n",
        "\n",
        "file_size = os.path.getsize(img_path)\n",
        "print(f\"filesize : {file_size} bytes\")\n",
        "\n",
        "img_pixel = Image.open(img_path)\n",
        "width,height = img_pixel.size\n",
        "print(f\"Image size : {width} x {height}\")"
      ]
    },
    {
      "cell_type": "code",
      "execution_count": null,
      "metadata": {
        "id": "Dj4X2BSMnJhA"
      },
      "outputs": [],
      "source": [
        "os.mkdir(\"/content/harmless_resized\")\n",
        "\n",
        "\n",
        "\n",
        "original_folder = '/content/drive/MyDrive/Datasets/Synthetix2/harmless/'\n",
        "resized_folder = '/content/harmless_resized/'\n",
        "\n",
        "for i in range(length_harmless-1):\n",
        "  file_name = os.listdir(original_folder)[i]\n",
        "  img_path = original_folder + file_name\n",
        "\n",
        "  img = Image.open(img_path)\n",
        "  img = img.resize((224,224))\n",
        "  img = img.convert('RGB')\n",
        "\n",
        "  new_path = resized_folder + file_name\n",
        "  img.save(new_path)"
      ]
    },
    {
      "cell_type": "code",
      "execution_count": null,
      "metadata": {
        "id": "Le_hVoWYn0xr"
      },
      "outputs": [],
      "source": [
        "path = \"/content/harmless_resized\"\n",
        "files = os.listdir(path)\n",
        "for i in range(5):\n",
        "  print(files[i])\n"
      ]
    },
    {
      "cell_type": "code",
      "execution_count": null,
      "metadata": {
        "id": "h2sH6x7woSXM"
      },
      "outputs": [],
      "source": [
        "img_path = \"/content/harmless_resized/colorful-pillows.jpg\"\n",
        "img = pltimg.imread(img_path)\n",
        "temp = plt.imshow(img)\n",
        "plt.show(temp)\n",
        "\n",
        "file_size = os.path.getsize(img_path)\n",
        "print(f\"filesize : {file_size} bytes\")\n",
        "\n",
        "img_pixel = Image.open(img_path)\n",
        "width,height = img_pixel.size\n",
        "print(f\"Image size : {width} x {height}\")"
      ]
    },
    {
      "cell_type": "markdown",
      "metadata": {
        "id": "vsMyaSPwqCl9"
      },
      "source": [
        "**Labelling the images**\n",
        "\n",
        "Harmful -> 0\n",
        "\n",
        "Harmless -> 1\n"
      ]
    },
    {
      "cell_type": "code",
      "execution_count": null,
      "metadata": {
        "id": "pUAK3k9Fpff-"
      },
      "outputs": [],
      "source": [
        "files = os.listdir(\"/content/harmless_resized\")\n",
        "\n",
        "labels_harmless = []\n",
        "\n",
        "for temp in files:\n",
        "  labels_harmless.append(1)\n",
        "\n"
      ]
    },
    {
      "cell_type": "code",
      "execution_count": null,
      "metadata": {
        "id": "csQdi7EPq8u7"
      },
      "outputs": [],
      "source": [
        "print(files[0:3])\n",
        "print(labels_harmless[0:3])\n"
      ]
    },
    {
      "cell_type": "code",
      "execution_count": null,
      "metadata": {
        "id": "sS8YlMuTsEYt"
      },
      "outputs": [],
      "source": [
        "len(labels_harmless)"
      ]
    },
    {
      "cell_type": "code",
      "execution_count": null,
      "metadata": {
        "id": "0-5tywsPtCZL"
      },
      "outputs": [],
      "source": [
        "files = os.listdir(\"/content/harmful_resized\")\n",
        "\n",
        "labels_harmful = []\n",
        "\n",
        "for temp in files:\n",
        "  labels_harmful.append(0)"
      ]
    },
    {
      "cell_type": "code",
      "execution_count": null,
      "metadata": {
        "id": "4bCKl95qzg1I"
      },
      "outputs": [],
      "source": [
        "print(files[0:3])\n",
        "print(labels_harmful[0:3])"
      ]
    },
    {
      "cell_type": "code",
      "execution_count": null,
      "metadata": {
        "id": "g2fHsneX0BUk"
      },
      "outputs": [],
      "source": [
        "len(labels_harmful)\n"
      ]
    },
    {
      "cell_type": "markdown",
      "metadata": {
        "id": "2aZgqJ6O2mdR"
      },
      "source": [
        "**Merging harmful and harmless images to create the train set**"
      ]
    },
    {
      "cell_type": "code",
      "execution_count": null,
      "metadata": {
        "id": "ODWGYSg60URU"
      },
      "outputs": [],
      "source": [
        "labels = []\n",
        "train_data = []\n",
        "\n",
        "file_harmless = os.listdir(\"/content/harmless_resized\")\n",
        "file_harmful = os.listdir(\"/content/harmful_resized\")\n",
        "\n",
        "for temp1 in file_harmless:\n",
        "  train_data.append(temp1)\n",
        "  labels.append(1)\n",
        "\n",
        "for temp2 in file_harmful:\n",
        "  train_data.append(temp2)\n",
        "  labels.append(0)\n",
        "  "
      ]
    },
    {
      "cell_type": "code",
      "execution_count": null,
      "metadata": {
        "id": "KJjr-Az67ILg"
      },
      "outputs": [],
      "source": [
        "print(train_data[0:3])\n",
        "print(labels[0:3])\n",
        "\n",
        "print(train_data[840:843])\n",
        "print(labels[840:843])\n"
      ]
    },
    {
      "cell_type": "code",
      "execution_count": null,
      "metadata": {
        "id": "IIAnaHFc9MKF"
      },
      "outputs": [],
      "source": [
        "values , counts = np.unique(labels,return_counts = True)\n",
        "print(values)\n",
        "print(counts)"
      ]
    },
    {
      "cell_type": "code",
      "execution_count": null,
      "metadata": {
        "id": "iDMMspu_f3Dt"
      },
      "outputs": [],
      "source": [
        "path = \"/content/train_data\"\n",
        "os.makedirs(path, exist_ok =True)"
      ]
    },
    {
      "cell_type": "code",
      "execution_count": null,
      "metadata": {
        "id": "YNjQgE3QNkQ2"
      },
      "outputs": [],
      "source": [
        "import os\n",
        "import shutil\n",
        "\n",
        "source_folder = '/content/harmless_resized'  \n",
        "destination_folder = '/content/train_data' \n",
        "\n",
        "# Get a list of all files in the source folder\n",
        "files = os.listdir(source_folder)\n",
        "\n",
        "# Iterate over each file in the source folder\n",
        "for file in files:\n",
        "    file_path = os.path.join(source_folder, file)\n",
        "    \n",
        "   \n",
        "    if file.lower().endswith(('.png', '.jpg', '.jpeg', '.gif')):\n",
        "        \n",
        "        shutil.copy(file_path, destination_folder)"
      ]
    },
    {
      "cell_type": "code",
      "execution_count": null,
      "metadata": {
        "id": "p2Ru8jEBO07K"
      },
      "outputs": [],
      "source": [
        "source_folder = '/content/harmful_resized'  \n",
        "destination_folder = '/content/train_data'  \n",
        "\n",
        "# Get a list of all files in the source folder\n",
        "files = os.listdir(source_folder)\n",
        "\n",
        "# Iterate over each file in the source folder\n",
        "for file in files:\n",
        "    file_path = os.path.join(source_folder, file)\n",
        "    \n",
        "    \n",
        "    if file.lower().endswith(('.png', '.jpg', '.jpeg', '.gif')):\n",
        "        \n",
        "        shutil.copy(file_path, destination_folder)"
      ]
    },
    {
      "cell_type": "code",
      "execution_count": null,
      "metadata": {
        "id": "ntCA6prNfxKV"
      },
      "outputs": [],
      "source": []
    },
    {
      "cell_type": "code",
      "execution_count": null,
      "metadata": {
        "id": "YrVR52GYP4zY"
      },
      "outputs": [],
      "source": [
        "path = \"/content/train_data\"\n",
        "files = os.listdir(path)\n",
        "print(len(files))"
      ]
    },
    {
      "cell_type": "code",
      "execution_count": null,
      "metadata": {
        "id": "eDnuhn8mRVJ3"
      },
      "outputs": [],
      "source": [
        "import cv2\n",
        "import glob"
      ]
    },
    {
      "cell_type": "code",
      "execution_count": null,
      "metadata": {
        "id": "__LornRGRfUg"
      },
      "outputs": [],
      "source": [
        "img_directory = \"/content/train_data/\"\n",
        "img_extension = ['png','jpg','jpeg']\n",
        "\n",
        "files = []\n",
        "[files.extend(glob.glob(img_directory + \"*.\" + i)) for i in img_extension]\n",
        "\n",
        "train_imgs = np.asarray([cv2.imread(file) for file in files])"
      ]
    },
    {
      "cell_type": "code",
      "execution_count": null,
      "metadata": {
        "id": "rwKR5fMLRnSa"
      },
      "outputs": [],
      "source": [
        "print(train_imgs.shape)"
      ]
    },
    {
      "cell_type": "code",
      "source": [
        "print(train_imgs[2])"
      ],
      "metadata": {
        "id": "ydSVAC8Ag1ha"
      },
      "execution_count": null,
      "outputs": []
    },
    {
      "cell_type": "code",
      "execution_count": null,
      "metadata": {
        "id": "RQM8uXZ9S_wv"
      },
      "outputs": [],
      "source": [
        "X = train_imgs\n",
        "Y = np.asarray(labels)"
      ]
    },
    {
      "cell_type": "code",
      "execution_count": null,
      "metadata": {
        "id": "AWINWAVLTOsp"
      },
      "outputs": [],
      "source": [
        "Y = Y[0:1595]\n",
        "print(Y.shape)"
      ]
    },
    {
      "cell_type": "markdown",
      "metadata": {
        "id": "816P4tJXUF4s"
      },
      "source": [
        "Train Test Split\n"
      ]
    },
    {
      "cell_type": "code",
      "execution_count": null,
      "metadata": {
        "id": "BPDXusLNUCgj"
      },
      "outputs": [],
      "source": [
        "X_train,X_test,Y_train,Y_test = train_test_split(X,Y,test_size = 0.2,random_state = 2)"
      ]
    },
    {
      "cell_type": "code",
      "execution_count": null,
      "metadata": {
        "id": "O1YLYECEUosm"
      },
      "outputs": [],
      "source": [
        "print(X.shape, X_train.shape,X_test.shape)"
      ]
    },
    {
      "cell_type": "code",
      "execution_count": null,
      "metadata": {
        "id": "3tMbgZy2Uvup"
      },
      "outputs": [],
      "source": [
        "X_train_scaled = X_train/255\n",
        "X_test_scaled = X_test/255"
      ]
    },
    {
      "cell_type": "markdown",
      "source": [
        "Neural Network : "
      ],
      "metadata": {
        "id": "9kdU1lc9nyC0"
      }
    },
    {
      "cell_type": "code",
      "execution_count": null,
      "metadata": {
        "id": "d7Ooc51qsBrq"
      },
      "outputs": [],
      "source": [
        "import tensorflow as tf\n",
        "from tensorflow.keras.models import Sequential\n",
        "from tensorflow.keras.layers import Conv2D, MaxPooling2D, Flatten, Dense, Dropout\n"
      ]
    },
    {
      "cell_type": "code",
      "execution_count": null,
      "metadata": {
        "id": "115kWrqfYVhi"
      },
      "outputs": [],
      "source": [
        "image_width = 224\n",
        "image_height = 224\n",
        "\n",
        "model = Sequential()\n",
        "\n",
        "# Convolutional layers\n",
        "model.add(Conv2D(64, (3, 3), activation='relu', input_shape=(image_width, image_height, 3)))\n",
        "model.add(MaxPooling2D((2, 2)))\n",
        "\n",
        "model.add(Conv2D(64, (3, 3), activation='relu'))\n",
        "model.add(MaxPooling2D((2, 2)))\n",
        "\n",
        "\n",
        "model.add(Flatten())\n",
        "\n",
        "# Fully connected layers\n",
        "model.add(Dense(64, activation='relu'))\n",
        "model.add(Dense(2, activation='sigmoid'))"
      ]
    },
    {
      "cell_type": "code",
      "execution_count": null,
      "metadata": {
        "id": "aaGDhCN0ZDyL"
      },
      "outputs": [],
      "source": [
        "model.compile(\n",
        "    optimizer = \"adam\",\n",
        "    loss = \"SparseCategoricalCrossentropy\",\n",
        "    metrics = ['accuracy']\n",
        ")"
      ]
    },
    {
      "cell_type": "code",
      "execution_count": null,
      "metadata": {
        "id": "oDZ2IkzFZV_4"
      },
      "outputs": [],
      "source": [
        "model.fit(X_train_scaled,Y_train,epochs = 5)"
      ]
    },
    {
      "cell_type": "code",
      "execution_count": null,
      "metadata": {
        "id": "O7C821OdwGFm"
      },
      "outputs": [],
      "source": [
        "score, accuracy = model.evaluate(X_test_scaled,Y_test)\n",
        "print(f\"Loss : {score}\")\n",
        "print(f\"Accuracy : {accuracy}\")"
      ]
    },
    {
      "cell_type": "markdown",
      "source": [
        "Pre-trained Model"
      ],
      "metadata": {
        "id": "XepUedDUn3e2"
      }
    },
    {
      "cell_type": "code",
      "execution_count": null,
      "metadata": {
        "id": "B-hcWpFCFXLm"
      },
      "outputs": [],
      "source": [
        "import tensorflow as tf \n",
        "import tensorflow_hub as hub "
      ]
    },
    {
      "cell_type": "code",
      "execution_count": null,
      "metadata": {
        "id": "di_ndZ0nF0ZE"
      },
      "outputs": [],
      "source": [
        "mobilenet = \"https://tfhub.dev/google/tf2-preview/mobilenet_v2/feature_vector/4\"\n",
        "\n",
        "pretrained_model = hub.KerasLayer(mobilenet, input_shape = (224,224,3), trainable=False)"
      ]
    },
    {
      "cell_type": "code",
      "execution_count": null,
      "metadata": {
        "id": "Gbf6sNEfFd-N"
      },
      "outputs": [],
      "source": [
        "num_of_classes = 2\n",
        "\n",
        "model1 = tf.keras.Sequential([\n",
        "    \n",
        "  pretrained_model,\n",
        "  tf.keras.layers.Dense(num_of_classes)\n",
        "\n",
        "])\n",
        "\n",
        "model1.summary()\n",
        "\n"
      ]
    },
    {
      "cell_type": "code",
      "execution_count": null,
      "metadata": {
        "id": "liFyxbJcGC83"
      },
      "outputs": [],
      "source": [
        "model1.compile(\n",
        "    \n",
        "    \n",
        "  optimizer = \"adam\",\n",
        "  loss = tf.keras.losses.SparseCategoricalCrossentropy(from_logits=True),\n",
        "  metrics = ['accuracy']\n",
        ")"
      ]
    },
    {
      "cell_type": "code",
      "execution_count": null,
      "metadata": {
        "id": "KsVvn-FUGRDK"
      },
      "outputs": [],
      "source": [
        "model1.fit(X_train_scaled, Y_train, epochs=5)"
      ]
    },
    {
      "cell_type": "code",
      "execution_count": null,
      "metadata": {
        "id": "v7gyIMbXGkvD"
      },
      "outputs": [],
      "source": [
        "score, accuracy = model1.evaluate(X_test_scaled,Y_test)\n",
        "print(f\"Loss : {score}\")\n",
        "print(f\"Accuracy : {accuracy}\")"
      ]
    },
    {
      "cell_type": "markdown",
      "source": [
        "Testing the Model"
      ],
      "metadata": {
        "id": "E17DvfbAn91v"
      }
    },
    {
      "cell_type": "code",
      "execution_count": null,
      "metadata": {
        "id": "634ipF1_lTy5"
      },
      "outputs": [],
      "source": [
        "input_img_path = input(\"Enter the path of the file : \")\n",
        "input_img = cv2.imread(input_img_path)\n",
        "cv2_imshow(input_img)\n",
        "\n",
        "input_img_resize = cv2.resize(input_img ,(224,224))\n",
        "input_img_scaled = input_img_resize/255\n",
        "image_reshape = np.reshape(input_img_scaled ,[1,224,224,3])\n",
        "\n",
        "prediction = model1.predict(image_reshape)\n",
        "print(prediction)\n",
        "pred_label = np.argmax(prediction)\n",
        "\n",
        "if pred_label == 1:\n",
        "  print(\"Harmless\") \n",
        "else:\n",
        "  print(\"Harmful\")"
      ]
    },
    {
      "cell_type": "code",
      "execution_count": null,
      "metadata": {
        "id": "N8FNHCidm12_"
      },
      "outputs": [],
      "source": [
        "input_img_path = input(\"Enter the path of the file : \")\n",
        "input_img = cv2.imread(input_img_path)\n",
        "cv2_imshow(input_img)\n",
        "\n",
        "input_img_resize = cv2.resize(input_img ,(224,224))\n",
        "input_img_scaled = input_img_resize/255\n",
        "image_reshape = np.reshape(input_img_scaled ,[1,224,224,3])\n",
        "\n",
        "prediction = model1.predict(image_reshape)\n",
        "print(prediction)\n",
        "pred_label = np.argmax(prediction)\n",
        "\n",
        "if pred_label == 1:\n",
        "  print(\"Harmless\") \n",
        "else:\n",
        "  print(\"Harmful\")\n",
        "  "
      ]
    }
  ],
  "metadata": {
    "accelerator": "GPU",
    "colab": {
      "provenance": []
    },
    "gpuClass": "standard",
    "kernelspec": {
      "display_name": "Python 3",
      "name": "python3"
    },
    "language_info": {
      "name": "python"
    }
  },
  "nbformat": 4,
  "nbformat_minor": 0
}